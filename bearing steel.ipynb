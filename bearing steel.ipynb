{
 "cells": [
  {
   "cell_type": "code",
   "execution_count": 1,
   "id": "43b3194b-a220-4fd0-b47e-39db55a09639",
   "metadata": {},
   "outputs": [
    {
     "name": "stdout",
     "output_type": "stream",
     "text": [
      "(4730, 8)\n",
      "   Austenitization_Temp_C  Quenching_Temp_C  Carbon_Content_%  \\\n",
      "0              862.417854        182.165549          0.934687   \n",
      "1              846.543392        199.251798          1.093774   \n",
      "2              866.192213        184.308184          1.087950   \n",
      "3              888.075746        207.101111          0.898741   \n",
      "4              844.146166        204.364210          1.065777   \n",
      "\n",
      "   Chromium_Content_%  Holding_Time_min  Cooling_Rate_C_per_s Carbide_Banding  \\\n",
      "0            1.549915         27.403043             22.642021            High   \n",
      "1            1.461287         38.159444             24.673078        Moderate   \n",
      "2            1.455058         31.481477             13.084678            High   \n",
      "3            1.571525         30.473692             18.656031             Low   \n",
      "4            1.536980         31.941371             10.080195             Low   \n",
      "\n",
      "  Interface_Stability  \n",
      "0              Stable  \n",
      "1            Unstable  \n",
      "2            Unstable  \n",
      "3              Stable  \n",
      "4            Unstable  \n"
     ]
    }
   ],
   "source": [
    "import pandas as pd\n",
    "import numpy as np\n",
    "\n",
    "# Load the CSV\n",
    "df = pd.read_csv('/home/texturelab/Desktop/mrinmoy projects/bearing_steel_carbide_predictions.csv')\n",
    "df=pd.re\n",
    "# Quick peek\n",
    "print(df.shape)\n",
    "print(df.head())\n"
   ]
  },
  {
   "cell_type": "code",
   "execution_count": 2,
   "id": "1d00c964-e1d8-435b-b6ce-85826d721171",
   "metadata": {},
   "outputs": [
    {
     "data": {
      "text/html": [
       "<div>\n",
       "<style scoped>\n",
       "    .dataframe tbody tr th:only-of-type {\n",
       "        vertical-align: middle;\n",
       "    }\n",
       "\n",
       "    .dataframe tbody tr th {\n",
       "        vertical-align: top;\n",
       "    }\n",
       "\n",
       "    .dataframe thead th {\n",
       "        text-align: right;\n",
       "    }\n",
       "</style>\n",
       "<table border=\"1\" class=\"dataframe\">\n",
       "  <thead>\n",
       "    <tr style=\"text-align: right;\">\n",
       "      <th></th>\n",
       "      <th>Austenitization_Temp_C</th>\n",
       "      <th>Quenching_Temp_C</th>\n",
       "      <th>Carbon_Content_%</th>\n",
       "      <th>Chromium_Content_%</th>\n",
       "      <th>Holding_Time_min</th>\n",
       "      <th>Cooling_Rate_C_per_s</th>\n",
       "      <th>Carbide_Banding</th>\n",
       "      <th>Interface_Stability</th>\n",
       "    </tr>\n",
       "  </thead>\n",
       "  <tbody>\n",
       "    <tr>\n",
       "      <th>0</th>\n",
       "      <td>862.417854</td>\n",
       "      <td>182.165549</td>\n",
       "      <td>0.934687</td>\n",
       "      <td>1.549915</td>\n",
       "      <td>27.403043</td>\n",
       "      <td>22.642021</td>\n",
       "      <td>High</td>\n",
       "      <td>Stable</td>\n",
       "    </tr>\n",
       "    <tr>\n",
       "      <th>1</th>\n",
       "      <td>846.543392</td>\n",
       "      <td>199.251798</td>\n",
       "      <td>1.093774</td>\n",
       "      <td>1.461287</td>\n",
       "      <td>38.159444</td>\n",
       "      <td>24.673078</td>\n",
       "      <td>Moderate</td>\n",
       "      <td>Unstable</td>\n",
       "    </tr>\n",
       "    <tr>\n",
       "      <th>2</th>\n",
       "      <td>866.192213</td>\n",
       "      <td>184.308184</td>\n",
       "      <td>1.087950</td>\n",
       "      <td>1.455058</td>\n",
       "      <td>31.481477</td>\n",
       "      <td>13.084678</td>\n",
       "      <td>High</td>\n",
       "      <td>Unstable</td>\n",
       "    </tr>\n",
       "    <tr>\n",
       "      <th>3</th>\n",
       "      <td>888.075746</td>\n",
       "      <td>207.101111</td>\n",
       "      <td>0.898741</td>\n",
       "      <td>1.571525</td>\n",
       "      <td>30.473692</td>\n",
       "      <td>18.656031</td>\n",
       "      <td>Low</td>\n",
       "      <td>Stable</td>\n",
       "    </tr>\n",
       "    <tr>\n",
       "      <th>4</th>\n",
       "      <td>844.146166</td>\n",
       "      <td>204.364210</td>\n",
       "      <td>1.065777</td>\n",
       "      <td>1.536980</td>\n",
       "      <td>31.941371</td>\n",
       "      <td>10.080195</td>\n",
       "      <td>Low</td>\n",
       "      <td>Unstable</td>\n",
       "    </tr>\n",
       "  </tbody>\n",
       "</table>\n",
       "</div>"
      ],
      "text/plain": [
       "   Austenitization_Temp_C  Quenching_Temp_C  Carbon_Content_%  \\\n",
       "0              862.417854        182.165549          0.934687   \n",
       "1              846.543392        199.251798          1.093774   \n",
       "2              866.192213        184.308184          1.087950   \n",
       "3              888.075746        207.101111          0.898741   \n",
       "4              844.146166        204.364210          1.065777   \n",
       "\n",
       "   Chromium_Content_%  Holding_Time_min  Cooling_Rate_C_per_s Carbide_Banding  \\\n",
       "0            1.549915         27.403043             22.642021            High   \n",
       "1            1.461287         38.159444             24.673078        Moderate   \n",
       "2            1.455058         31.481477             13.084678            High   \n",
       "3            1.571525         30.473692             18.656031             Low   \n",
       "4            1.536980         31.941371             10.080195             Low   \n",
       "\n",
       "  Interface_Stability  \n",
       "0              Stable  \n",
       "1            Unstable  \n",
       "2            Unstable  \n",
       "3              Stable  \n",
       "4            Unstable  "
      ]
     },
     "execution_count": 2,
     "metadata": {},
     "output_type": "execute_result"
    }
   ],
   "source": [
    "df.head()"
   ]
  },
  {
   "cell_type": "code",
   "execution_count": 5,
   "id": "7321bd5c-5a37-44c8-a3ec-050f16e6dd0e",
   "metadata": {},
   "outputs": [],
   "source": [
    "X = df.drop(['Carbide_Banding', 'Interface_Stability'], axis=1)\n",
    "y_int  = df['Interface_Stability']\n",
    "y_band=df['Carbide_Banding']\n"
   ]
  },
  {
   "cell_type": "code",
   "execution_count": 7,
   "id": "4f211b6c-5f43-4e13-ba80-6ded1436dc8d",
   "metadata": {},
   "outputs": [],
   "source": [
    "from sklearn.preprocessing import LabelEncoder\n",
    "le_band = LabelEncoder()\n",
    "yb = le_band.fit_transform(y_band)"
   ]
  },
  {
   "cell_type": "code",
   "execution_count": 8,
   "id": "1efbf2d2-2565-436b-8767-0ae9d43aba62",
   "metadata": {},
   "outputs": [],
   "source": [
    "\n",
    "le_int = LabelEncoder()\n",
    "yi = le_int.fit_transform(y_int)"
   ]
  },
  {
   "cell_type": "code",
   "execution_count": 9,
   "id": "c1277833-9401-482f-ab03-30cd191e3ddd",
   "metadata": {},
   "outputs": [
    {
     "name": "stdout",
     "output_type": "stream",
     "text": [
      "{'High': 0, 'Low': 1, 'Moderate': 2}\n",
      "{'Stable': 0, 'Unstable': 1}\n"
     ]
    }
   ],
   "source": [
    "print(dict(zip(le_band.classes_, le_band.transform(le_band.classes_))))\n",
    "print(dict(zip(le_int.classes_,  le_int.transform(le_int.classes_))))"
   ]
  },
  {
   "cell_type": "code",
   "execution_count": 10,
   "id": "9ae00769-a92c-4e19-9d96-08d25ea6b2f3",
   "metadata": {},
   "outputs": [
    {
     "name": "stdout",
     "output_type": "stream",
     "text": [
      "Train size: (3784, 6) Test size: (946, 6)\n"
     ]
    }
   ],
   "source": [
    "from sklearn.model_selection import train_test_split\n",
    "\n",
    "# Stratify on carbide banding to preserve class balance\n",
    "X_train, X_test, yb_train, yb_test, yi_train, yi_test = train_test_split(\n",
    "    X, yb, yi,\n",
    "    test_size=0.20,\n",
    "    random_state=42,\n",
    "    stratify=yb\n",
    ")\n",
    "\n",
    "print(\"Train size:\", X_train.shape, \"Test size:\", X_test.shape)\n"
   ]
  },
  {
   "cell_type": "code",
   "execution_count": 11,
   "id": "8fbcc374-47a0-4352-a371-d91619864522",
   "metadata": {},
   "outputs": [],
   "source": [
    "from sklearn.pipeline import Pipeline\n",
    "from sklearn.impute import SimpleImputer\n",
    "from sklearn.preprocessing import StandardScaler\n",
    "from sklearn.compose import ColumnTransformer\n",
    "\n",
    "# Identify numeric columns\n",
    "numeric_cols = X.select_dtypes(include=['int64', 'float64']).columns.tolist()\n",
    "\n",
    "# Impute → scale\n",
    "numeric_transformer = Pipeline([\n",
    "    ('imputer', SimpleImputer(strategy='median')),\n",
    "    ('scaler',  StandardScaler())\n",
    "])\n",
    "\n",
    "preprocessor = ColumnTransformer([\n",
    "    ('num', numeric_transformer, numeric_cols)\n",
    "])\n"
   ]
  },
  {
   "cell_type": "code",
   "execution_count": 12,
   "id": "3a28716e-f117-46a2-8b53-7e76092f65a0",
   "metadata": {},
   "outputs": [
    {
     "name": "stdout",
     "output_type": "stream",
     "text": [
      "=== Carbide Banding ===\n",
      "              precision    recall  f1-score   support\n",
      "\n",
      "        High       0.16      0.05      0.08       224\n",
      "         Low       0.40      0.58      0.47       387\n",
      "    Moderate       0.35      0.34      0.34       335\n",
      "\n",
      "    accuracy                           0.37       946\n",
      "   macro avg       0.31      0.32      0.30       946\n",
      "weighted avg       0.33      0.37      0.33       946\n",
      "\n",
      "=== Interface Stability ===\n",
      "              precision    recall  f1-score   support\n",
      "\n",
      "      Stable       0.60      0.86      0.70       558\n",
      "    Unstable       0.45      0.17      0.24       388\n",
      "\n",
      "    accuracy                           0.57       946\n",
      "   macro avg       0.52      0.51      0.47       946\n",
      "weighted avg       0.54      0.57      0.51       946\n",
      "\n"
     ]
    }
   ],
   "source": [
    "from sklearn.ensemble import RandomForestClassifier\n",
    "from sklearn.metrics import classification_report\n",
    "\n",
    "# 5a. Carbide Banding (3-class)\n",
    "band_pipeline = Pipeline([\n",
    "    ('preproc', preprocessor),\n",
    "    ('clf',     RandomForestClassifier(\n",
    "                    n_estimators=100,\n",
    "                    random_state=42\n",
    "                ))\n",
    "])\n",
    "band_pipeline.fit(X_train, yb_train)\n",
    "yb_pred = band_pipeline.predict(X_test)\n",
    "\n",
    "print(\"=== Carbide Banding ===\")\n",
    "print(classification_report(yb_test, yb_pred,\n",
    "      target_names=le_band.classes_))\n",
    "\n",
    "# 5b. Interface Stability (binary)\n",
    "int_pipeline = Pipeline([\n",
    "    ('preproc', preprocessor),\n",
    "    ('clf',     RandomForestClassifier(\n",
    "                    n_estimators=100,\n",
    "                    random_state=42\n",
    "                ))\n",
    "])\n",
    "int_pipeline.fit(X_train, yi_train)\n",
    "yi_pred = int_pipeline.predict(X_test)\n",
    "\n",
    "print(\"=== Interface Stability ===\")\n",
    "print(classification_report(yi_test, yi_pred,\n",
    "      target_names=le_int.classes_))\n"
   ]
  },
  {
   "cell_type": "code",
   "execution_count": null,
   "id": "0c49f569-689f-4108-990b-dbb88e542249",
   "metadata": {},
   "outputs": [],
   "source": []
  }
 ],
 "metadata": {
  "kernelspec": {
   "display_name": "Python 3 (ipykernel)",
   "language": "python",
   "name": "python3"
  },
  "language_info": {
   "codemirror_mode": {
    "name": "ipython",
    "version": 3
   },
   "file_extension": ".py",
   "mimetype": "text/x-python",
   "name": "python",
   "nbconvert_exporter": "python",
   "pygments_lexer": "ipython3",
   "version": "3.10.6"
  }
 },
 "nbformat": 4,
 "nbformat_minor": 5
}
